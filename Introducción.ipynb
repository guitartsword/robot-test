{
 "cells": [
  {
   "cell_type": "markdown",
   "metadata": {},
   "source": [
    "# **FLISol BA 2021** - Carlos Bustillo"
   ]
  },
  {
   "cell_type": "markdown",
   "metadata": {},
   "source": [
    "### 0. Consideraciones"
   ]
  },
  {
   "cell_type": "markdown",
   "metadata": {},
   "source": [
    "Requiere que los archivos 'sim.py', 'simConst.py', 'remoteapi.dll' estén alojados en la misma carpeta que este cuaderno de Jupyter.\n",
    "<br> Incluir en el script de Coppelia la línea: simRemoteApi.start(19999)"
   ]
  },
  {
   "cell_type": "code",
   "execution_count": 2,
   "metadata": {},
   "outputs": [],
   "source": [
    "# Se importa las librerías necesarias\n",
    "import sim\n"
   ]
  },
  {
   "cell_type": "markdown",
   "metadata": {},
   "source": [
    "### 1. Establecer la conexión\n",
    "Utilizaremos las funciones del API Remoto de VREP.\n",
    "<br> Para más detalles refiérase a la documentación de la librería:\n",
    "<br> http://www.coppeliarobotics.com/helpFiles/en/remoteApiFunctionsPython.htm"
   ]
  },
  {
   "cell_type": "code",
   "execution_count": 3,
   "metadata": {},
   "outputs": [],
   "source": [
    "def connect(port):\n",
    "# Establece la conexión a VREP\n",
    "# port debe coincidir con el puerto de conexión en VREP\n",
    "# retorna el número de cliente o -1 si no puede establecer conexión\n",
    "    sim.simxFinish(-1) # Por si acaso, cierre todas las conexiones abiertas.\n",
    "    clientID=sim.simxStart('127.0.0.1',port,True,True,2000,5) # Conectarse\n",
    "    if clientID == 0: print(\"Conectado a\", port)\n",
    "    else: print(\"No se pudo conectar\")\n",
    "    return clientID\n"
   ]
  },
  {
   "cell_type": "markdown",
   "metadata": {},
   "source": [
    "**Parámetros de simxStart**\n",
    "\n",
    "number clientID=***simxStart***(string connectionAddress,number connectionPort,boolean waitUntilConnected,boolean doNotReconnectOnceDisconnected,number timeOutInMs,number commThreadCycleInMs)"
   ]
  },
  {
   "cell_type": "code",
   "execution_count": 4,
   "metadata": {},
   "outputs": [
    {
     "name": "stdout",
     "output_type": "stream",
     "text": [
      "Conectado a 19999\n"
     ]
    }
   ],
   "source": [
    "# Conectarse al servidor de VREP\n",
    "# *** IMPORTANTE: Ejecutar cada vez que se reinicia la simulación ***\n",
    "clientID = connect(19999)"
   ]
  },
  {
   "cell_type": "markdown",
   "metadata": {},
   "source": [
    "### 2. Obtener los manejadores (handlers)</h3>\n",
    "Un **manejador (handler)** es un número identificador que asigna VREP para cada uno de los elementos de la escena. A través de su manejador se puede hacer referencia a un elemento en específico de la escena."
   ]
  },
  {
   "cell_type": "markdown",
   "metadata": {},
   "source": [
    "**Parámetros de simxGetObjectHandle**\n",
    "\n",
    " number returnCode,number handle=***simxGetObjectHandle***(number clientID,string objectName,number operationMode)\n",
    " \n",
    "***simx_opmode_blocking*** \n",
    "(Modo de bloqueo): Se envía el comando, y la función esperará la respuesta real y la devolverá (si la función no sale de tiempo). La respuesta del comando recibida se eliminará del búfer de la bandeja de entrada (otros modos de operación dejarán sus respuestas de comando en el búfer de la bandeja de entrada"
   ]
  },
  {
   "cell_type": "code",
   "execution_count": 5,
   "metadata": {},
   "outputs": [
    {
     "name": "stdout",
     "output_type": "stream",
     "text": [
      "21 22 25\n"
     ]
    }
   ],
   "source": [
    "# Obtenemos los manejadores para cada una de las articulaciones del Robot\n",
    "ret,end_effector=sim.simxGetObjectHandle(clientID,'Dummy',sim.simx_opmode_blocking)\n",
    "\n",
    "ret,joint1=sim.simxGetObjectHandle(clientID,'MTB_joint1',sim.simx_opmode_blocking)\n",
    "ret,joint2=sim.simxGetObjectHandle(clientID,'MTB_joint2',sim.simx_opmode_blocking)\n",
    "ret,joint3=sim.simxGetObjectHandle(clientID,'MTB_joint3',sim.simx_opmode_blocking)\n",
    "print(joint1, joint2, joint3)"
   ]
  },
  {
   "cell_type": "markdown",
   "metadata": {},
   "source": [
    "**Prueba para controlar los manejadores**"
   ]
  },
  {
   "cell_type": "code",
   "execution_count": 24,
   "metadata": {},
   "outputs": [],
   "source": [
    "#import sim\n",
    "#clientID = connect(19999)\n",
    "\n",
    "# Asignamos un valor random de prueba\n",
    "valor = 30\n",
    "\n",
    "#Definir\n",
    "ret,joint2=sim.simxGetObjectHandle(clientID,'MTB_joint2',sim.simx_opmode_blocking)\n",
    "\n",
    "retCode = sim.simxSetJointTargetPosition(clientID, joint2, valor, sim.simx_opmode_oneshot)"
   ]
  },
  {
   "cell_type": "markdown",
   "metadata": {},
   "source": [
    "<h3> 3. Obtener alguna información adicional</h3>\n",
    "Utilizando los manejadores, podemos obtener información de los elementos."
   ]
  },
  {
   "cell_type": "code",
   "execution_count": 9,
   "metadata": {},
   "outputs": [
    {
     "name": "stdout",
     "output_type": "stream",
     "text": [
      "[0.5034672617912292, 0.14492854475975037, 0.5720040798187256]\n"
     ]
    }
   ],
   "source": [
    "# Posición Actual del actuador final\n",
    "retCode,pos=sim.simxGetObjectPosition(clientID, end_effector, -1, sim.simx_opmode_blocking)\n",
    "print(pos)"
   ]
  },
  {
   "cell_type": "code",
   "execution_count": 10,
   "metadata": {},
   "outputs": [
    {
     "name": "stdout",
     "output_type": "stream",
     "text": [
      "[-3.1415915489196777, 1.880273316601233e-06, 0.26547425985336304]\n"
     ]
    }
   ],
   "source": [
    "# Orientación Actual del actuador final\n",
    "retCode,orient=sim.simxGetObjectOrientation(clientID, end_effector, -1, sim.simx_opmode_blocking)\n",
    "print(orient)"
   ]
  },
  {
   "cell_type": "code",
   "execution_count": 11,
   "metadata": {},
   "outputs": [
    {
     "name": "stdout",
     "output_type": "stream",
     "text": [
      "1.4901158351676713e-07\n"
     ]
    }
   ],
   "source": [
    "# Posición de las articulaciones\n",
    "returnCode, pos1 = sim.simxGetJointPosition(clientID, joint1, sim.simx_opmode_blocking)\n",
    "print(pos1)"
   ]
  },
  {
   "cell_type": "markdown",
   "metadata": {},
   "source": [
    "### 4) A mover el Robot por socket\n",
    "Utilizando los manejadores, podemos enviar parámetros a los elementos."
   ]
  },
  {
   "cell_type": "code",
   "execution_count": null,
   "metadata": {},
   "outputs": [],
   "source": [
    "#!/usr/bin/env python3\n",
    "import socket\n",
    "import time\n",
    "\n",
    "# conectamos\n",
    "clientID = connect(19999)\n",
    "\n",
    "# Definimos los datos iniciales\n",
    "HOST0 = '192.168.1.130'       # The server's hostname or IP address\n",
    "PORT0 = 65430                # The port used by the server\n",
    "\n",
    "while(True):\n",
    "    with socket.socket(socket.AF_INET, socket.SOCK_STREAM) as s0:\n",
    "        s0.connect((HOST0, PORT0))\n",
    "        \n",
    "        #Dato recibido\n",
    "        data0 = float(s0.recv(1024))\n",
    "        #print(data0)\n",
    "        \n",
    "        #La simulacion acepta radianes\n",
    "        dataR0 = data0*0.0175\n",
    "    \n",
    "        sim.simxSetJointTargetPosition(clientID, joint1, dataR0, sim.simx_opmode_oneshot)\n",
    "        #time.sleep(0.2)"
   ]
  },
  {
   "cell_type": "markdown",
   "metadata": {},
   "source": [
    "<h3> Gráfica de la trayectoria recorrida por la articulación</h3>\n",
    "\n",
    "<br>Se guardan todas las posiciones (x,y,z) de la trayectoria del gripper en una lista, una vez finalizada la simulación se realiza el gráfico. \n",
    "<br>"
   ]
  },
  {
   "cell_type": "code",
   "execution_count": null,
   "metadata": {},
   "outputs": [],
   "source": [
    "import socket\n",
    "import time\n",
    "\n",
    "# Conectamos\n",
    "clientID = connect(19999)\n",
    "\n",
    "# Posiciones\n",
    "posiciones = list()\n",
    "\n",
    "# Definimos los datos iniciales\n",
    "HOST2 = '192.168.1.132'       # The server's hostname or IP address\n",
    "PORT2 = 65432                # The port used by the server\n",
    "\n",
    "while(True):\n",
    "    with socket.socket(socket.AF_INET, socket.SOCK_STREAM) as s2:\n",
    "        s2.connect((HOST2, PORT2))\n",
    "        \n",
    "        #Guardar posicion actual\n",
    "        retCode,pos=sim.simxGetObjectPosition(clientID, end_effector, -1, sim.simx_opmode_blocking)\n",
    "        posiciones.append(pos)\n",
    "        \n",
    "        #Dato recibido\n",
    "        data2 = float(s2.recv(1024))\n",
    "        #print(data2)\n",
    "        \n",
    "        #La simulacion acepta radianes\n",
    "        dataR2 = data2*0.0175\n",
    "    \n",
    "        sim.simxSetJointTargetPosition(clientID, end_effector, dataR2, sim.simx_opmode_oneshot)\n",
    "        #time.sleep(0.2)"
   ]
  },
  {
   "cell_type": "code",
   "execution_count": null,
   "metadata": {},
   "outputs": [],
   "source": [
    "#Graficar posiciones\n",
    "%matplotlib notebook\n",
    "import matplotlib.pyplot as plt\n",
    "from mpl_toolkits.mplot3d import axes3d, Axes3D\n",
    "\n",
    "#Mostrar posiciones\n",
    "#print(posiciones)\n",
    "\n",
    "#Graficar trayectoria recorrida en 3D\n",
    "fig = plt.figure()\n",
    "ax = Axes3D(fig)\n",
    "ax.plot(posiciones[0], posiciones[1], posiciones[2], color=\"red\")\n",
    "plt.show()"
   ]
  },
  {
   "cell_type": "markdown",
   "metadata": {},
   "source": [
    "### 5) Conexión microcontrolador (Ej.: Arduino) y Python por serial\n",
    "\n",
    "Un script en Python envia datos al robot físico\n",
    "<br>"
   ]
  },
  {
   "cell_type": "code",
   "execution_count": null,
   "metadata": {},
   "outputs": [],
   "source": [
    "#!/usr/bin/env python3\n",
    "import serial\n",
    "import socket\n",
    "import time\n",
    "\n",
    "# Definimos los datos iniciales\n",
    "HOST0 = '192.168.1.130'       # The server's hostname or IP address\n",
    "PORT0 = 65430                # The port used by the server\n",
    "\n",
    "#Puerto Serial Arduino\n",
    "puerto = \"/dev/ttyUSB1\"\n",
    "arduino = serial.Serial(puerto, 9600)   # create serial object named arduino\n",
    "\n",
    "while(True):\n",
    "    with socket.socket(socket.AF_INET, socket.SOCK_STREAM) as s0:\n",
    "        s0.connect((HOST0, PORT0))\n",
    "        \n",
    "        #Dato recibido\n",
    "        data0 = float(s0.recv(1024))\n",
    "        #print(data0)\n",
    "        \n",
    "        arduino.write(bytes(data0,'utf-8'))           # write position to serial port\n",
    "        reachedPos = str(arduino.readline())            # read serial port for arduino echo\n",
    "        print(reachedPos)"
   ]
  }
 ],
 "metadata": {
  "kernelspec": {
   "display_name": "Python 3",
   "language": "python",
   "name": "python3"
  },
  "language_info": {
   "codemirror_mode": {
    "name": "ipython",
    "version": 3
   },
   "file_extension": ".py",
   "mimetype": "text/x-python",
   "name": "python",
   "nbconvert_exporter": "python",
   "pygments_lexer": "ipython3",
   "version": "3.9.0"
  }
 },
 "nbformat": 4,
 "nbformat_minor": 4
}
